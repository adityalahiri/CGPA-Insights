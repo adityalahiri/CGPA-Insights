{
 "cells": [
  {
   "cell_type": "code",
   "execution_count": 3,
   "metadata": {
    "collapsed": true,
    "deletable": true,
    "editable": true
   },
   "outputs": [],
   "source": [
    "#importing necessary libraries\n",
    "\n",
    "import pandas as pd\n",
    "import numpy as np\n",
    "import plotly.plotly as py\n",
    "import cufflinks as cf"
   ]
  },
  {
   "cell_type": "code",
   "execution_count": 4,
   "metadata": {
    "collapsed": false,
    "deletable": true,
    "editable": true,
    "scrolled": true
   },
   "outputs": [],
   "source": [
    "#Importing CG Data till Sem 1 2016-2017\n",
    "df=pd.read_excel('/home/arrayslayer/Ipython/Cg project/cgfull.xls')\n",
    "df.head()\n",
    "a=df\n",
    "campusid=a['Campus ID']\n",
    "a['Campus year']=campusid  #adding a new column that will show Year of student\n",
    "a['Roll']=campusid # adding a new column that will be showing roll number(3 digit)"
   ]
  },
  {
   "cell_type": "code",
   "execution_count": 5,
   "metadata": {
    "collapsed": false,
    "deletable": true,
    "editable": true
   },
   "outputs": [
    {
     "data": {
      "text/html": [
       "<div>\n",
       "<table border=\"1\" class=\"dataframe\">\n",
       "  <thead>\n",
       "    <tr style=\"text-align: right;\">\n",
       "      <th></th>\n",
       "      <th>Campus ID</th>\n",
       "      <th>Name</th>\n",
       "      <th>Round up</th>\n",
       "      <th>Campus year</th>\n",
       "      <th>Roll</th>\n",
       "    </tr>\n",
       "  </thead>\n",
       "  <tbody>\n",
       "    <tr>\n",
       "      <th>0</th>\n",
       "      <td>B3</td>\n",
       "      <td>AKSHAY A SINGH</td>\n",
       "      <td>5.57</td>\n",
       "      <td>2009B3PS509G</td>\n",
       "      <td>2009B3PS509G</td>\n",
       "    </tr>\n",
       "    <tr>\n",
       "      <th>1</th>\n",
       "      <td>C6</td>\n",
       "      <td>SRIKAR KASTURI</td>\n",
       "      <td>4.20</td>\n",
       "      <td>2010C6PS051G</td>\n",
       "      <td>2010C6PS051G</td>\n",
       "    </tr>\n",
       "    <tr>\n",
       "      <th>2</th>\n",
       "      <td>A4</td>\n",
       "      <td>PILLARISETTI VENKATA RAVI KIRA</td>\n",
       "      <td>5.04</td>\n",
       "      <td>2011A4PS232G</td>\n",
       "      <td>2011A4PS232G</td>\n",
       "    </tr>\n",
       "    <tr>\n",
       "      <th>3</th>\n",
       "      <td>B2</td>\n",
       "      <td>BHAKTAVATSALA P PANDE</td>\n",
       "      <td>4.13</td>\n",
       "      <td>2011B2A1562G</td>\n",
       "      <td>2011B2A1562G</td>\n",
       "    </tr>\n",
       "    <tr>\n",
       "      <th>4</th>\n",
       "      <td>B2</td>\n",
       "      <td>SHIVESH ANAND</td>\n",
       "      <td>7.93</td>\n",
       "      <td>2011B2A3637G</td>\n",
       "      <td>2011B2A3637G</td>\n",
       "    </tr>\n",
       "  </tbody>\n",
       "</table>\n",
       "</div>"
      ],
      "text/plain": [
       "  Campus ID                            Name  Round up   Campus year  \\\n",
       "0        B3                  AKSHAY A SINGH      5.57  2009B3PS509G   \n",
       "1        C6                  SRIKAR KASTURI      4.20  2010C6PS051G   \n",
       "2        A4  PILLARISETTI VENKATA RAVI KIRA      5.04  2011A4PS232G   \n",
       "3        B2           BHAKTAVATSALA P PANDE      4.13  2011B2A1562G   \n",
       "4        B2                   SHIVESH ANAND      7.93  2011B2A3637G   \n",
       "\n",
       "           Roll  \n",
       "0  2009B3PS509G  \n",
       "1  2010C6PS051G  \n",
       "2  2011A4PS232G  \n",
       "3  2011B2A1562G  \n",
       "4  2011B2A3637G  "
      ]
     },
     "execution_count": 5,
     "metadata": {},
     "output_type": "execute_result"
    }
   ],
   "source": [
    "a['Campus ID']=a['Campus ID'].map(lambda x : x[4:]) #removes year\n",
    "a['Campus ID']=a['Campus ID'].map(lambda x : x[:-1]) #removes G\n",
    "a['Campus ID']=a['Campus ID'].map(lambda x : x[:-5]) #leaves only Branch ID \n",
    "a.head()"
   ]
  },
  {
   "cell_type": "code",
   "execution_count": 6,
   "metadata": {
    "collapsed": false,
    "deletable": true,
    "editable": true
   },
   "outputs": [
    {
     "data": {
      "text/html": [
       "<div>\n",
       "<table border=\"1\" class=\"dataframe\">\n",
       "  <thead>\n",
       "    <tr style=\"text-align: right;\">\n",
       "      <th></th>\n",
       "      <th>Campus ID</th>\n",
       "      <th>Name</th>\n",
       "      <th>Round up</th>\n",
       "      <th>Campus year</th>\n",
       "      <th>Roll</th>\n",
       "    </tr>\n",
       "  </thead>\n",
       "  <tbody>\n",
       "    <tr>\n",
       "      <th>0</th>\n",
       "      <td>B3</td>\n",
       "      <td>AKSHAY A SINGH</td>\n",
       "      <td>5.57</td>\n",
       "      <td>2009</td>\n",
       "      <td>2009B3PS509G</td>\n",
       "    </tr>\n",
       "    <tr>\n",
       "      <th>1</th>\n",
       "      <td>C6</td>\n",
       "      <td>SRIKAR KASTURI</td>\n",
       "      <td>4.20</td>\n",
       "      <td>2010</td>\n",
       "      <td>2010C6PS051G</td>\n",
       "    </tr>\n",
       "    <tr>\n",
       "      <th>2</th>\n",
       "      <td>A4</td>\n",
       "      <td>PILLARISETTI VENKATA RAVI KIRA</td>\n",
       "      <td>5.04</td>\n",
       "      <td>2011</td>\n",
       "      <td>2011A4PS232G</td>\n",
       "    </tr>\n",
       "    <tr>\n",
       "      <th>3</th>\n",
       "      <td>B2</td>\n",
       "      <td>BHAKTAVATSALA P PANDE</td>\n",
       "      <td>4.13</td>\n",
       "      <td>2011</td>\n",
       "      <td>2011B2A1562G</td>\n",
       "    </tr>\n",
       "    <tr>\n",
       "      <th>4</th>\n",
       "      <td>B2</td>\n",
       "      <td>SHIVESH ANAND</td>\n",
       "      <td>7.93</td>\n",
       "      <td>2011</td>\n",
       "      <td>2011B2A3637G</td>\n",
       "    </tr>\n",
       "  </tbody>\n",
       "</table>\n",
       "</div>"
      ],
      "text/plain": [
       "  Campus ID                            Name  Round up Campus year  \\\n",
       "0        B3                  AKSHAY A SINGH      5.57        2009   \n",
       "1        C6                  SRIKAR KASTURI      4.20        2010   \n",
       "2        A4  PILLARISETTI VENKATA RAVI KIRA      5.04        2011   \n",
       "3        B2           BHAKTAVATSALA P PANDE      4.13        2011   \n",
       "4        B2                   SHIVESH ANAND      7.93        2011   \n",
       "\n",
       "           Roll  \n",
       "0  2009B3PS509G  \n",
       "1  2010C6PS051G  \n",
       "2  2011A4PS232G  \n",
       "3  2011B2A1562G  \n",
       "4  2011B2A3637G  "
      ]
     },
     "execution_count": 6,
     "metadata": {},
     "output_type": "execute_result"
    }
   ],
   "source": [
    "a['Campus year']=a['Campus year'].map(lambda x : x[:4]) #Stores year in campus year\n",
    "a.head()"
   ]
  },
  {
   "cell_type": "code",
   "execution_count": 7,
   "metadata": {
    "collapsed": false,
    "deletable": true,
    "editable": true
   },
   "outputs": [
    {
     "data": {
      "text/html": [
       "<div>\n",
       "<table border=\"1\" class=\"dataframe\">\n",
       "  <thead>\n",
       "    <tr style=\"text-align: right;\">\n",
       "      <th></th>\n",
       "      <th>Campus ID</th>\n",
       "      <th>Name</th>\n",
       "      <th>Round up</th>\n",
       "      <th>Campus year</th>\n",
       "      <th>Roll</th>\n",
       "    </tr>\n",
       "  </thead>\n",
       "  <tbody>\n",
       "    <tr>\n",
       "      <th>0</th>\n",
       "      <td>B3</td>\n",
       "      <td>AKSHAY A SINGH</td>\n",
       "      <td>5.57</td>\n",
       "      <td>2009</td>\n",
       "      <td>509</td>\n",
       "    </tr>\n",
       "    <tr>\n",
       "      <th>1</th>\n",
       "      <td>C6</td>\n",
       "      <td>SRIKAR KASTURI</td>\n",
       "      <td>4.20</td>\n",
       "      <td>2010</td>\n",
       "      <td>051</td>\n",
       "    </tr>\n",
       "    <tr>\n",
       "      <th>2</th>\n",
       "      <td>A4</td>\n",
       "      <td>PILLARISETTI VENKATA RAVI KIRA</td>\n",
       "      <td>5.04</td>\n",
       "      <td>2011</td>\n",
       "      <td>232</td>\n",
       "    </tr>\n",
       "    <tr>\n",
       "      <th>3</th>\n",
       "      <td>B2</td>\n",
       "      <td>BHAKTAVATSALA P PANDE</td>\n",
       "      <td>4.13</td>\n",
       "      <td>2011</td>\n",
       "      <td>562</td>\n",
       "    </tr>\n",
       "    <tr>\n",
       "      <th>4</th>\n",
       "      <td>B2</td>\n",
       "      <td>SHIVESH ANAND</td>\n",
       "      <td>7.93</td>\n",
       "      <td>2011</td>\n",
       "      <td>637</td>\n",
       "    </tr>\n",
       "  </tbody>\n",
       "</table>\n",
       "</div>"
      ],
      "text/plain": [
       "  Campus ID                            Name  Round up Campus year Roll\n",
       "0        B3                  AKSHAY A SINGH      5.57        2009  509\n",
       "1        C6                  SRIKAR KASTURI      4.20        2010  051\n",
       "2        A4  PILLARISETTI VENKATA RAVI KIRA      5.04        2011  232\n",
       "3        B2           BHAKTAVATSALA P PANDE      4.13        2011  562\n",
       "4        B2                   SHIVESH ANAND      7.93        2011  637"
      ]
     },
     "execution_count": 7,
     "metadata": {},
     "output_type": "execute_result"
    }
   ],
   "source": [
    "a['Roll']=a['Roll'].map(lambda x : x[-4:])  #stores roll number + G\n",
    "a['Roll']=a['Roll'].map(lambda x : x[:-1])  #removes G\n",
    "a.head()"
   ]
  },
  {
   "cell_type": "code",
   "execution_count": 8,
   "metadata": {
    "collapsed": false,
    "deletable": true,
    "editable": true
   },
   "outputs": [
    {
     "data": {
      "text/html": [
       "<div>\n",
       "<table border=\"1\" class=\"dataframe\">\n",
       "  <thead>\n",
       "    <tr style=\"text-align: right;\">\n",
       "      <th></th>\n",
       "      <th>Campus ID</th>\n",
       "      <th>Name</th>\n",
       "      <th>Round up</th>\n",
       "      <th>Campus year</th>\n",
       "      <th>Roll</th>\n",
       "    </tr>\n",
       "  </thead>\n",
       "  <tbody>\n",
       "    <tr>\n",
       "      <th>0</th>\n",
       "      <td>A7</td>\n",
       "      <td>DESAI ABHISHEK DEEPAK</td>\n",
       "      <td>6.43</td>\n",
       "      <td>2012</td>\n",
       "      <td>065</td>\n",
       "    </tr>\n",
       "    <tr>\n",
       "      <th>1</th>\n",
       "      <td>A7</td>\n",
       "      <td>RAHUL BHOLA</td>\n",
       "      <td>4.05</td>\n",
       "      <td>2012</td>\n",
       "      <td>031</td>\n",
       "    </tr>\n",
       "    <tr>\n",
       "      <th>2</th>\n",
       "      <td>A7</td>\n",
       "      <td>SANKA ANISH</td>\n",
       "      <td>4.55</td>\n",
       "      <td>2012</td>\n",
       "      <td>040</td>\n",
       "    </tr>\n",
       "    <tr>\n",
       "      <th>3</th>\n",
       "      <td>A7</td>\n",
       "      <td>PIYUSH GUPTA</td>\n",
       "      <td>6.76</td>\n",
       "      <td>2012</td>\n",
       "      <td>094</td>\n",
       "    </tr>\n",
       "    <tr>\n",
       "      <th>4</th>\n",
       "      <td>A7</td>\n",
       "      <td>KHOLKAR GAURI PRADEEP</td>\n",
       "      <td>8.18</td>\n",
       "      <td>2013</td>\n",
       "      <td>002</td>\n",
       "    </tr>\n",
       "  </tbody>\n",
       "</table>\n",
       "</div>"
      ],
      "text/plain": [
       "  Campus ID                   Name  Round up Campus year Roll\n",
       "0        A7  DESAI ABHISHEK DEEPAK      6.43        2012  065\n",
       "1        A7            RAHUL BHOLA      4.05        2012  031\n",
       "2        A7            SANKA ANISH      4.55        2012  040\n",
       "3        A7           PIYUSH GUPTA      6.76        2012  094\n",
       "4        A7  KHOLKAR GAURI PRADEEP      8.18        2013  002"
      ]
     },
     "execution_count": 8,
     "metadata": {},
     "output_type": "execute_result"
    }
   ],
   "source": [
    "cs=a.where(a['Campus ID']=='A7').dropna() #selecting out only CS students based on branch code A7\n",
    "cs.reset_index(inplace=True)\n",
    "cs.drop('index',axis=1,inplace=True)\n",
    "cs.head()"
   ]
  },
  {
   "cell_type": "code",
   "execution_count": 11,
   "metadata": {
    "collapsed": false,
    "deletable": true,
    "editable": true
   },
   "outputs": [],
   "source": [
    "twentythirteen=cs.where(cs['Campus year']=='2013').dropna()\n",
    "twentyfourteen=cs.where(cs['Campus year']=='2014').dropna()\n",
    "twentyfifteen=cs.where(cs['Campus year']=='2015').dropna()\n",
    "twentysixteen=cs.where(cs['Campus year']=='2016').dropna()\n",
    "\n",
    "#getting different series objects representing each year\n"
   ]
  },
  {
   "cell_type": "code",
   "execution_count": 15,
   "metadata": {
    "collapsed": false,
    "deletable": true,
    "editable": true
   },
   "outputs": [
    {
     "name": "stdout",
     "output_type": "stream",
     "text": [
      "High five! You successfuly sent some data to your account on plotly. View your plot in your browser at https://plot.ly/~arrayslayer/0 or inside your plot.ly account where it is named '/cgcsuptil120'\n"
     ]
    },
    {
     "data": {
      "text/html": [
       "<iframe id=\"igraph\" scrolling=\"no\" style=\"border:none;\" seamless=\"seamless\" src=\"https://plot.ly/~arrayslayer/0.embed\" height=\"525px\" width=\"100%\"></iframe>"
      ],
      "text/plain": [
       "<plotly.tools.PlotlyDisplay object>"
      ]
     },
     "execution_count": 15,
     "metadata": {},
     "output_type": "execute_result"
    }
   ],
   "source": [
    "fig = {\n",
    "    'data': [ #using cufflinks + plotly to plot 4 scatter plots \n",
    "        #corresponding to each year and simultaneously plotting them\n",
    "        {'y': twentythirteen['Round up'],'x':twentythirteen['Roll'], 'text': twentythirteen['Name'], 'mode': 'markers', 'name': '2013'},\n",
    "        {'y': twentyfourteen['Round up'],'x':twentyfourteen['Roll'],'text': twentyfourteen['Name'], 'mode': 'markers', 'name':'2014'},\n",
    "        {'y': twentyfifteen['Round up'], 'x':twentyfifteen['Roll'],'text': twentyfifteen['Name'], 'mode': 'markers', 'name':'2015'},\n",
    "        {'y': twentysixteen['Round up'],'x':twentysixteen['Roll'],'text': twentysixteen['Name'], 'mode': 'markers', 'name':'2016'}\n",
    "    ],\n",
    "    'layout': {\n",
    "        'xaxis': {'title': 'CS Students Roll','range':[0,140]}, #plots only for roll numbers\n",
    "        #between 0-140 to avoid too much clustering.\n",
    "        'yaxis': {'title': \"CGPA\"}\n",
    "    }\n",
    "}\n",
    "py.iplot(fig, filename='/cgcsuptil120')"
   ]
  },
  {
   "cell_type": "code",
   "execution_count": 16,
   "metadata": {
    "collapsed": false,
    "deletable": true,
    "editable": true
   },
   "outputs": [
    {
     "data": {
      "text/html": [
       "<iframe id=\"igraph\" scrolling=\"no\" style=\"border:none;\" seamless=\"seamless\" src=\"https://plot.ly/~arrayslayer/2.embed\" height=\"525px\" width=\"100%\"></iframe>"
      ],
      "text/plain": [
       "<plotly.tools.PlotlyDisplay object>"
      ]
     },
     "execution_count": 16,
     "metadata": {},
     "output_type": "execute_result"
    }
   ],
   "source": [
    "fig = {\n",
    "    'data': [\n",
    "        {'y': twentythirteen['Round up'],'x':twentythirteen['Roll'], 'text': twentythirteen['Name'], 'mode': 'markers', 'name': '2013'},\n",
    "        {'y': twentyfourteen['Round up'],'x':twentyfourteen['Roll'],'text': twentyfourteen['Name'], 'mode': 'markers', 'name':'2014'},\n",
    "        {'y': twentyfifteen['Round up'], 'x':twentyfifteen['Roll'],'text': twentyfifteen['Name'], 'mode': 'markers', 'name':'2015'},\n",
    "        {'y': twentysixteen['Round up'],'x':twentysixteen['Roll'],'text': twentysixteen['Name'], 'mode': 'markers', 'name':'2016'}\n",
    "    ],\n",
    "    'layout': {\n",
    "        'xaxis': {'title': 'CS Students Roll','range':[0,1000]}, #plots all CS roll numbers\n",
    "        'yaxis': {'title': \"CGPA\"}\n",
    "    }\n",
    "}\n",
    "py.iplot(fig, filename='/cgcsall')"
   ]
  },
  {
   "cell_type": "code",
   "execution_count": null,
   "metadata": {
    "collapsed": true,
    "deletable": true,
    "editable": true
   },
   "outputs": [],
   "source": []
  }
 ],
 "metadata": {
  "kernelspec": {
   "display_name": "Python 3",
   "language": "python",
   "name": "python3"
  },
  "language_info": {
   "codemirror_mode": {
    "name": "ipython",
    "version": 3
   },
   "file_extension": ".py",
   "mimetype": "text/x-python",
   "name": "python",
   "nbconvert_exporter": "python",
   "pygments_lexer": "ipython3",
   "version": "3.5.2"
  }
 },
 "nbformat": 4,
 "nbformat_minor": 2
}
